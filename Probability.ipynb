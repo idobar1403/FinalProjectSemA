{
 "cells": [
  {
   "cell_type": "markdown",
   "metadata": {},
   "source": [
    "# Question 1a"
   ]
  },
  {
   "cell_type": "markdown",
   "metadata": {},
   "source": [
    "The probabilty For an identical twin is : $\\dfrac{1}{300}$\n",
    "\n",
    "The probabilty For a non identical twin is : $\\dfrac{1}{125}$\n",
    "\n",
    "We know that the probabilty for a boy is : $\\dfrac{1}{2}$\n",
    "\n",
    "We know elvis is a boy and had a boy twin brother. the probability for that is : $\\dfrac{1}{4}$.\n",
    "\n",
    "So the probabilty for a not identical boy twin is:  $\\dfrac{1}{125} \\cdot \\dfrac{1}{4} $\n",
    "\n",
    "\n",
    "Identical twins can only be of the same sex , Therefore a $50\\%$ chance for boy identical twins.\n",
    "\n",
    "So the probabilty for an identical boy twin is:  $\\dfrac{1}{300} \\cdot \\dfrac{1}{2} $\n",
    "\n",
    "Concluding the final equation to  be -\n",
    "the chance for an identical twin divided by the chance for an identical twin times  the chance for an unidentical twin\n",
    "\n",
    "Putting are words in to math we get-\n",
    "$\\dfrac{\\dfrac{1}{300}\\cdot \\dfrac{1}{2}}{\\dfrac{1}{300}\\cdot \\dfrac{1}{2} + \\dfrac{1}{125}\\cdot \\dfrac{1}{4}} =\\dfrac{5}{11}$\n",
    "\n",
    "Bringing are final answer for the probabilty of elvis having an identical twin to $\\dfrac{5}{11}$\n"
   ]
  },
  {
   "cell_type": "markdown",
   "metadata": {},
   "source": [
    "# Question 1b"
   ]
  },
  {
   "cell_type": "markdown",
   "metadata": {},
   "source": [
    "There is a $ 50 \\% $  chance to pick each bowl of cookies.\n",
    "\n",
    "There is a $\\dfrac{30}{40} $ chance of picking a chocolate cookie from the first bowl.\n",
    "\n",
    "There is a $\\dfrac{20}{40} $ chance of picking a chocolate cookie from the second bowl.\n",
    "\n",
    "We know that eric grabbed a chocolate cookie. \n",
    "We want to find the probability of eric picking the chocolate cookie out of the first bowl.\n",
    "\n",
    "The probabilty of picking from the first bowl is:\n",
    "$\\dfrac{\\dfrac{30}{40}\\cdot \\dfrac{20}{40}}{\\dfrac{1}{2}\\cdot \\dfrac{20}{40} + \\dfrac{1}{2}\\cdot \\dfrac{30}{40}} =\\dfrac{3}{5}$\n",
    "\n",
    "Therefore the final answer for the probabilty of eric picking the chocolate cookie out of the first bowl is $\\dfrac{3}{5}$"
   ]
  },
  {
   "cell_type": "markdown",
   "metadata": {},
   "source": [
    "# Question 2"
   ]
  },
  {
   "cell_type": "markdown",
   "metadata": {},
   "source": [
    "We can easily see that the probability for each bag is $ 50\\% $\n",
    "\n",
    "Yellow from bag 1(the 1994 bag) and green from bag 2 (the 1996 bag).\n",
    "\n",
    "Since the probability of taking a yellow from 1994 is intertwined with taking a green from 1996 (and vice versa for yellow from 1996) we must multiply the probabilty.\n",
    "\n",
    "So the probabilty for a yellow  m&m from bag 1 is :\n",
    "$(0.2)\\cdot(0.2) = 0.04$\n",
    "\n",
    "and the probabilty for a yellow  m&m from bag 2 is :\n",
    "$(0.1)\\cdot(0.14) =0.014 $\n",
    "\n",
    "Plugging that into the bayes probabilty theorem we get:\n",
    "\n",
    "P(A | B) = $\\dfrac{P(A and B)}{ P(B)} = \\dfrac{0.04}{0.2 \\cdot 0.2 + 0.1 \\cdot 0.14} = \\dfrac{0.04}{0.054} = 0.74074 $\n",
    "\n",
    "\n",
    "\n"
   ]
  },
  {
   "cell_type": "markdown",
   "metadata": {},
   "source": [
    "# Question 3a"
   ]
  },
  {
   "cell_type": "markdown",
   "metadata": {},
   "source": [
    "H= actually sick\n",
    "\n",
    "E= tested positive for swine flu\n",
    "\n",
    "We need to find what is the probability of having swine flu which is: P(H | E) \n",
    "\n",
    "P(H) = $ \\dfrac{1}{10000}$\n",
    "\n",
    "P(E) = $ \\dfrac{1}{10000} + \\dfrac{9999}{10000} \\cdot \\dfrac{1}{100} $\n",
    "\n",
    "P(E|H) = $1$\n",
    "\n",
    "P(H|E) = $\\frac{P(E|H) \\cdot P(H)}{P(E)} = \\frac{1 \\cdot \\dfrac{1}{10000}}{\\dfrac{1}{10000} + \\dfrac{9999}{10000} \\cdot \\dfrac{1}{100}} = \\dfrac{100}{10099} =0.01009 $\n"
   ]
  },
  {
   "cell_type": "markdown",
   "metadata": {},
   "source": [
    "# Question 3b"
   ]
  },
  {
   "cell_type": "markdown",
   "metadata": {},
   "source": [
    "H=actually sick.\n",
    "\n",
    "E=tested positive for swine flu.\n",
    "\n",
    "We need to find what is the probability of you having swine flu with the considering of thailand which is: P(H | E) \n",
    "\n",
    "P(H) = $ \\dfrac{1}{200}$\n",
    "\n",
    "P(E) = $ \\dfrac{1}{200} + \\dfrac{199}{200} \\cdot \\dfrac{1}{100}=0.01495 $\n",
    "\n",
    "P(E|H) = $1$\n",
    "\n",
    "\n",
    "\n",
    "P(H|E) = $\\frac{P(E|H) \\cdot P(H)}{P(E)} = \\frac{1 \\cdot \\dfrac{1}{200}}{0.01495}= 0.3344 \\%  $\n"
   ]
  },
  {
   "cell_type": "markdown",
   "metadata": {},
   "source": [
    "# Random Variables "
   ]
  },
  {
   "cell_type": "markdown",
   "metadata": {},
   "source": [
    "# Question 1"
   ]
  },
  {
   "cell_type": "markdown",
   "metadata": {},
   "source": [
    "Rolling two dice gives us 36 options.\n",
    "\n",
    "A = The chance for roey to roll a number that divides 3 is $ \\dfrac{12}{36}$\n",
    "\n",
    "B = The chance for roey to roll a number that dosen't divide 3 is $ \\dfrac{24}{36}$.\n",
    "\n",
    "P(A) = $\\dfrac{1}{3}$, Roey wins 6$.\n",
    "\n",
    "P(B) = $\\dfrac{2}{3}$, Roey loses 3$.\n",
    "\n",
    "So the expected value is :\n",
    "\n",
    "$(\\dfrac{1}{3} \\cdot 6 ) +(\\dfrac{2}{3} \\cdot (-3)) =0 $"
   ]
  },
  {
   "cell_type": "markdown",
   "metadata": {},
   "source": [
    "# Question 2"
   ]
  },
  {
   "cell_type": "markdown",
   "metadata": {},
   "source": [
    "Playing marker mixup gives us 25 options.\n",
    "\n",
    "Break even = The number of options for Alex to pick 2 markres that the sum of them is equel to 12 is - $\\dfrac{4}{25}$.\n",
    "\n",
    "Lose = The number of options for Alex to pick 2 markres that the sum of them is less then 12 is -  $\\dfrac{15}{25}$.\n",
    "\n",
    "Win = The number of options for Alex to pick 2 markres that the sum of them is equel to 12 is -  $\\dfrac{6}{25}$.\n",
    "\n",
    "P(Break Even) = $\\dfrac{4}{25}$, Alex wins 0$.\n",
    "\n",
    "P(Lose) = $\\dfrac{15}{25}$, Alex loses 6$.\n",
    "\n",
    "P(Win) = $\\dfrac{6}{25}$, Alex wins 5$.\n",
    "\n",
    "So the expected value is :\n",
    "\n",
    "$(\\dfrac{4}{25} \\cdot 0 ) +(\\dfrac{15}{25} \\cdot (-6)) +(\\dfrac{6}{25} \\cdot (5)) = -2.4 $ "
   ]
  },
  {
   "cell_type": "markdown",
   "metadata": {},
   "source": [
    "# Question 3"
   ]
  },
  {
   "cell_type": "markdown",
   "metadata": {},
   "source": [
    "The company has 200 empolyes.\n",
    "\n",
    "Men empolyes are 40%(P(A)) of the companies employees=80 employes.\n",
    "\n",
    "Women empolyes are 60% (P(B)) of the companies employees=120 employes.\n",
    "\n",
    "We need to find the mean, and according to that find the std.\n",
    "\n",
    "mean=$8\\cdot P(A)=8 \\cdot 0.4=3.2$\n",
    "\n",
    "std = $\\sqrt{mean \\cdot P(B) }  = \\sqrt{3.2\\cdot P(B) }= 1.4$\n",
    "\n"
   ]
  },
  {
   "cell_type": "markdown",
   "metadata": {},
   "source": [
    "# Question 4"
   ]
  },
  {
   "cell_type": "markdown",
   "metadata": {},
   "source": [
    "We know the mean is 26,000, and the std is 2,000.\n",
    "\n",
    "By the 68-95-99.7 rule\n",
    "\n",
    "$\\mu$ being the mean=26,000.\n",
    "\n",
    "$\\sigma$ being the std=2,000.\n",
    "\n",
    "z=$\\dfrac{X-\\mu}{\\sigma}$\n",
    "\n",
    "We will place z in 26,000<X<30,000: $\\dfrac{26,000-26,000}{2,000}<\\dfrac{X-26,000}{2,000}<\\dfrac{30,000-26,000}{2,000}$\n",
    "\n",
    "= $0<\\dfrac{X-26,000}{2,000}<2,000$.\n",
    "\n",
    "\n",
    "Therefore the answer is:\n",
    "P(0<Z<2)=0.48=48%. (as 2 is $\\sigma$)"
   ]
  },
  {
   "cell_type": "markdown",
   "metadata": {},
   "source": [
    "# Question 5"
   ]
  },
  {
   "cell_type": "markdown",
   "metadata": {},
   "source": [
    "We find  that the area of the triangle is :\n",
    "$\\dfrac{5\\cdot 0.4}{2} = 1$\n",
    "\n",
    "In order to find P(x>3) we need to calculate the area of the triangle for which x>3 and divide that into the area we found:\n",
    "$\\dfrac{\\dfrac{2\\cdot 0.4}{2}}{1} = \\dfrac{2}{5}$"
   ]
  },
  {
   "cell_type": "markdown",
   "metadata": {},
   "source": [
    "# Question 6\n"
   ]
  },
  {
   "cell_type": "markdown",
   "metadata": {},
   "source": [
    "Company has 500 employes\n",
    "\n",
    "60% of them have kids=300 employes have kids.\n",
    "\n",
    "40% of them don't have kids=200 employes don't have kids.\n",
    "\n",
    "In order to find the probability that exactly 3 of the 4 employes we select have kids.\n",
    "\n",
    "\n",
    "\n",
    "$ (0.6)^3 \\cdot 0.4 = 0.0864$\n",
    "\n"
   ]
  },
  {
   "cell_type": "markdown",
   "metadata": {},
   "source": [
    "# Question 7"
   ]
  },
  {
   "cell_type": "markdown",
   "metadata": {},
   "source": [
    "The expected value of x is :\n",
    "\n",
    "$((-10) \\cdot 0.1 ) +((-5) \\cdot 0.35) +( 0  \\cdot 0.1) + (10 \\cdot 0.1 ) +(5 \\cdot 0.35) = 0 $ "
   ]
  },
  {
   "cell_type": "code",
   "execution_count": null,
   "metadata": {},
   "outputs": [],
   "source": []
  },
  {
   "cell_type": "code",
   "execution_count": null,
   "metadata": {},
   "outputs": [],
   "source": []
  }
 ],
 "metadata": {
  "kernelspec": {
   "display_name": "Python 3",
   "language": "python",
   "name": "python3"
  },
  "language_info": {
   "codemirror_mode": {
    "name": "ipython",
    "version": 3
   },
   "file_extension": ".py",
   "mimetype": "text/x-python",
   "name": "python",
   "nbconvert_exporter": "python",
   "pygments_lexer": "ipython3",
   "version": "3.8.3"
  }
 },
 "nbformat": 4,
 "nbformat_minor": 4
}
