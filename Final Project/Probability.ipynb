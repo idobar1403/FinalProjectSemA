{
 "cells": [
  {
   "cell_type": "markdown",
   "metadata": {},
   "source": [
    "Q1.a\n",
    "\n",
    "The probability for not identical twins is $\\frac{1}{125}$.\n",
    "\n",
    "The probability for identical twins is  $\\frac{1}{300}$.\n",
    "\n",
    "We know that there were twins therefore the sample space is $\\frac{17}{1500}$.\n",
    "\n",
    "The probability for boy or girls is $\\frac{1}{2}$.\n",
    "\n",
    "We want to check for the probability of two identical boys.\n",
    "\n",
    "Therefore we will divide the probability of identical twins by the sample space of twins.\n",
    "\n",
    "$\\frac{\\frac{1}{300}}{\\frac{17}{1500}}=\\frac{5}{17}*\\frac{1}{2}$(we want to check the probability for boy)$=\\frac{5}{34}$\n",
    "\n",
    "\n",
    "Q1.b\n",
    "\n"
   ]
  },
  {
   "cell_type": "code",
   "execution_count": null,
   "metadata": {},
   "outputs": [],
   "source": []
  }
 ],
 "metadata": {
  "kernelspec": {
   "display_name": "Python 3",
   "language": "python",
   "name": "python3"
  },
  "language_info": {
   "codemirror_mode": {
    "name": "ipython",
    "version": 3
   },
   "file_extension": ".py",
   "mimetype": "text/x-python",
   "name": "python",
   "nbconvert_exporter": "python",
   "pygments_lexer": "ipython3",
   "version": "3.8.3"
  }
 },
 "nbformat": 4,
 "nbformat_minor": 4
}
