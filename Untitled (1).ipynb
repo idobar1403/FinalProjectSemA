{
 "cells": [
  {
   "cell_type": "code",
   "execution_count": 54,
   "metadata": {},
   "outputs": [
    {
     "name": "stdout",
     "output_type": "stream",
     "text": [
      "The title How I Met Your Mother is  21 characters long.\n",
      "The title Friends is  7 characters long.\n",
      "The title Silicon Valley is  14 characters long.\n",
      "The title Family Guy is  10 characters long.\n",
      "The title South Park is  10 characters long.\n",
      "The title Rick and Morty is  14 characters long.\n",
      "The title Breaking Bad is  12 characters long.\n",
      "The title Game of Thrones is  15 characters long.\n",
      "The title The Wire is  8 characters long.\n"
     ]
    }
   ],
   "source": [
    "my_movies = [['How I Met Your Mother', 'Friends', 'Silicon Valley'],\n",
    "   \t            ['Family Guy', 'South Park', 'Rick and Morty'],\n",
    "  \t            ['Breaking Bad', 'Game of Thrones', 'The Wire']]\n",
    "for i in range (3):\n",
    "  for j in range (3):\n",
    "    count=0\n",
    "    for h in  my_movies[i][j]:\n",
    "     count=count+1\n",
    "    print('The title' +' '+my_movies[i][j]+' is  {}' ' characters long.'.format(count))\n",
    "    "
   ]
  },
  {
   "cell_type": "code",
   "execution_count": 62,
   "metadata": {},
   "outputs": [
    {
     "name": "stdout",
     "output_type": "stream",
     "text": [
      "1\n",
      "2\n",
      "Boom!\n",
      "4\n",
      "bim!\n",
      "Boom!\n",
      "7\n",
      "8\n",
      "Boom!\n",
      "bim!\n",
      "11\n",
      "Boom!\n",
      "13\n",
      "14\n",
      "BimBamBom!\n",
      "16\n",
      "17\n",
      "Boom!\n",
      "19\n",
      "bim!\n",
      "Boom!\n",
      "22\n",
      "23\n",
      "Boom!\n",
      "bim!\n",
      "26\n",
      "Boom!\n",
      "28\n",
      "29\n",
      "BimBamBom!\n",
      "31\n",
      "32\n",
      "Boom!\n",
      "34\n",
      "bim!\n",
      "Boom!\n",
      "37\n",
      "38\n",
      "Boom!\n",
      "bim!\n",
      "41\n",
      "Boom!\n",
      "43\n",
      "44\n",
      "BimBamBom!\n",
      "46\n",
      "47\n",
      "Boom!\n",
      "49\n",
      "bim!\n",
      "Boom!\n",
      "52\n",
      "53\n",
      "Boom!\n",
      "bim!\n",
      "56\n",
      "Boom!\n",
      "58\n",
      "59\n",
      "BimBamBom!\n",
      "61\n",
      "62\n",
      "Boom!\n",
      "64\n",
      "bim!\n",
      "Boom!\n",
      "67\n",
      "68\n",
      "Boom!\n",
      "bim!\n",
      "71\n",
      "Boom!\n",
      "73\n",
      "74\n",
      "BimBamBom!\n",
      "76\n",
      "77\n",
      "Boom!\n",
      "79\n",
      "bim!\n",
      "Boom!\n",
      "82\n",
      "83\n",
      "Boom!\n",
      "bim!\n",
      "86\n",
      "Boom!\n",
      "88\n",
      "89\n",
      "BimBamBom!\n",
      "91\n",
      "92\n",
      "Boom!\n",
      "94\n",
      "bim!\n",
      "Boom!\n",
      "97\n",
      "98\n",
      "Boom!\n"
     ]
    }
   ],
   "source": [
    "for i in range(1,100):\n",
    "    if (i%5==0 and i%3==0):\n",
    "      print(\"BimBamBom!\")\n",
    "    elif (i%5==0):\n",
    "      print(\"bim!\")\n",
    "    elif ( i%3==0):\n",
    "        print(\"Boom!\")\n",
    "    else:\n",
    "        print(i)\n",
    "        "
   ]
  },
  {
   "cell_type": "code",
   "execution_count": 74,
   "metadata": {},
   "outputs": [
    {
     "name": "stdout",
     "output_type": "stream",
     "text": [
      "2000\n",
      "{'Arizona': 'Phoenix', 'California': 'Sacramento', 'Hawaii': 'Honolulu'}\n",
      "['hat', 't-shirt', 'jeans', {'socks1': 'red', 'socks2': 'blue'}]\n",
      "Phoenix\n",
      "jeans\n",
      "blue\n"
     ]
    }
   ],
   "source": [
    "test = [{'Arizona': 'Phoenix', 'California': 'Sacramento', 'Hawaii': 'Honolulu'},\n",
    "1000,\n",
    "2000,\n",
    "3000,\n",
    "['hat', 't-shirt', 'jeans', {'socks1': 'red', 'socks2': 'blue'}]]\n",
    "print(test[2])\n",
    "print(test[0])\n",
    "print(test[4])\n",
    "print(test[0]['Arizona'])\n",
    "print(test[4][2])\n",
    "print(test[4][3]['socks2'])\n"
   ]
  },
  {
   "cell_type": "code",
   "execution_count": null,
   "metadata": {},
   "outputs": [],
   "source": []
  },
  {
   "cell_type": "code",
   "execution_count": null,
   "metadata": {},
   "outputs": [],
   "source": []
  }
 ],
 "metadata": {
  "kernelspec": {
   "display_name": "Python 3",
   "language": "python",
   "name": "python3"
  },
  "language_info": {
   "codemirror_mode": {
    "name": "ipython",
    "version": 3
   },
   "file_extension": ".py",
   "mimetype": "text/x-python",
   "name": "python",
   "nbconvert_exporter": "python",
   "pygments_lexer": "ipython3",
   "version": "3.8.3"
  }
 },
 "nbformat": 4,
 "nbformat_minor": 4
}
